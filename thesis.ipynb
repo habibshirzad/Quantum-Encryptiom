{
  "nbformat": 4,
  "nbformat_minor": 0,
  "metadata": {
    "colab": {
      "provenance": [],
      "authorship_tag": "ABX9TyMEjGK6MBJC/qwwKL0tK/DP",
      "include_colab_link": true
    },
    "kernelspec": {
      "name": "python3",
      "display_name": "Python 3"
    },
    "language_info": {
      "name": "python"
    }
  },
  "cells": [
    {
      "cell_type": "markdown",
      "metadata": {
        "id": "view-in-github",
        "colab_type": "text"
      },
      "source": [
        "<a href=\"https://colab.research.google.com/github/habibshirzad/Quantum-Encryptiom/blob/master/thesis.ipynb\" target=\"_parent\"><img src=\"https://colab.research.google.com/assets/colab-badge.svg\" alt=\"Open In Colab\"/></a>"
      ]
    },
    {
      "cell_type": "markdown",
      "source": [
        "Below you can find 4 different codes for four different operations.\n",
        "first of all we are accessing our dataset from our device and uploading directly to google colab. after that we import the required libraries in each operation seprately. it is repeatative but it is easier to run the code again and again. this way we dont have to scroll to the top again and again.\n",
        "\n",
        "first code is simple machine learning model with no excryption.\n",
        "second one is RSA, third one is quantum resistant and the last one is balanced. which we are using machine learning technques such as scaling and quantum encryption for example  Simulated quantum-resistant encryption like mathemtical reversable transformation."
      ],
      "metadata": {
        "id": "KSE_-Zr4ciWd"
      }
    },
    {
      "cell_type": "markdown",
      "source": [
        "link to the dataset:\n",
        "https://www.kaggle.com/datasets/karimkeraani/carscsv"
      ],
      "metadata": {
        "id": "4yJLQEzB0TYA"
      }
    },
    {
      "cell_type": "code",
      "source": [
        "!pip install scikit-learn pycryptodome\n"
      ],
      "metadata": {
        "id": "qNL38KXiXiqn"
      },
      "execution_count": null,
      "outputs": []
    },
    {
      "cell_type": "code",
      "source": [
        "# uploading our dataset from my computer\n",
        "\n",
        "from google.colab import files\n",
        "uploaded = files.upload()\n",
        "import pandas as pd\n",
        "\n",
        "\n",
        "df = pd.read_csv(\"cars.csv\")\n"
      ],
      "metadata": {
        "colab": {
          "base_uri": "https://localhost:8080/",
          "height": 74
        },
        "id": "Ilg6mDXHcp8d",
        "outputId": "7bc20322-c63d-40c6-bd29-a9098724447d"
      },
      "execution_count": 1,
      "outputs": [
        {
          "output_type": "display_data",
          "data": {
            "text/plain": [
              "<IPython.core.display.HTML object>"
            ],
            "text/html": [
              "\n",
              "     <input type=\"file\" id=\"files-fbfb57cb-8d56-4ba6-af8f-2abc1a608b2e\" name=\"files[]\" multiple disabled\n",
              "        style=\"border:none\" />\n",
              "     <output id=\"result-fbfb57cb-8d56-4ba6-af8f-2abc1a608b2e\">\n",
              "      Upload widget is only available when the cell has been executed in the\n",
              "      current browser session. Please rerun this cell to enable.\n",
              "      </output>\n",
              "      <script>// Copyright 2017 Google LLC\n",
              "//\n",
              "// Licensed under the Apache License, Version 2.0 (the \"License\");\n",
              "// you may not use this file except in compliance with the License.\n",
              "// You may obtain a copy of the License at\n",
              "//\n",
              "//      http://www.apache.org/licenses/LICENSE-2.0\n",
              "//\n",
              "// Unless required by applicable law or agreed to in writing, software\n",
              "// distributed under the License is distributed on an \"AS IS\" BASIS,\n",
              "// WITHOUT WARRANTIES OR CONDITIONS OF ANY KIND, either express or implied.\n",
              "// See the License for the specific language governing permissions and\n",
              "// limitations under the License.\n",
              "\n",
              "/**\n",
              " * @fileoverview Helpers for google.colab Python module.\n",
              " */\n",
              "(function(scope) {\n",
              "function span(text, styleAttributes = {}) {\n",
              "  const element = document.createElement('span');\n",
              "  element.textContent = text;\n",
              "  for (const key of Object.keys(styleAttributes)) {\n",
              "    element.style[key] = styleAttributes[key];\n",
              "  }\n",
              "  return element;\n",
              "}\n",
              "\n",
              "// Max number of bytes which will be uploaded at a time.\n",
              "const MAX_PAYLOAD_SIZE = 100 * 1024;\n",
              "\n",
              "function _uploadFiles(inputId, outputId) {\n",
              "  const steps = uploadFilesStep(inputId, outputId);\n",
              "  const outputElement = document.getElementById(outputId);\n",
              "  // Cache steps on the outputElement to make it available for the next call\n",
              "  // to uploadFilesContinue from Python.\n",
              "  outputElement.steps = steps;\n",
              "\n",
              "  return _uploadFilesContinue(outputId);\n",
              "}\n",
              "\n",
              "// This is roughly an async generator (not supported in the browser yet),\n",
              "// where there are multiple asynchronous steps and the Python side is going\n",
              "// to poll for completion of each step.\n",
              "// This uses a Promise to block the python side on completion of each step,\n",
              "// then passes the result of the previous step as the input to the next step.\n",
              "function _uploadFilesContinue(outputId) {\n",
              "  const outputElement = document.getElementById(outputId);\n",
              "  const steps = outputElement.steps;\n",
              "\n",
              "  const next = steps.next(outputElement.lastPromiseValue);\n",
              "  return Promise.resolve(next.value.promise).then((value) => {\n",
              "    // Cache the last promise value to make it available to the next\n",
              "    // step of the generator.\n",
              "    outputElement.lastPromiseValue = value;\n",
              "    return next.value.response;\n",
              "  });\n",
              "}\n",
              "\n",
              "/**\n",
              " * Generator function which is called between each async step of the upload\n",
              " * process.\n",
              " * @param {string} inputId Element ID of the input file picker element.\n",
              " * @param {string} outputId Element ID of the output display.\n",
              " * @return {!Iterable<!Object>} Iterable of next steps.\n",
              " */\n",
              "function* uploadFilesStep(inputId, outputId) {\n",
              "  const inputElement = document.getElementById(inputId);\n",
              "  inputElement.disabled = false;\n",
              "\n",
              "  const outputElement = document.getElementById(outputId);\n",
              "  outputElement.innerHTML = '';\n",
              "\n",
              "  const pickedPromise = new Promise((resolve) => {\n",
              "    inputElement.addEventListener('change', (e) => {\n",
              "      resolve(e.target.files);\n",
              "    });\n",
              "  });\n",
              "\n",
              "  const cancel = document.createElement('button');\n",
              "  inputElement.parentElement.appendChild(cancel);\n",
              "  cancel.textContent = 'Cancel upload';\n",
              "  const cancelPromise = new Promise((resolve) => {\n",
              "    cancel.onclick = () => {\n",
              "      resolve(null);\n",
              "    };\n",
              "  });\n",
              "\n",
              "  // Wait for the user to pick the files.\n",
              "  const files = yield {\n",
              "    promise: Promise.race([pickedPromise, cancelPromise]),\n",
              "    response: {\n",
              "      action: 'starting',\n",
              "    }\n",
              "  };\n",
              "\n",
              "  cancel.remove();\n",
              "\n",
              "  // Disable the input element since further picks are not allowed.\n",
              "  inputElement.disabled = true;\n",
              "\n",
              "  if (!files) {\n",
              "    return {\n",
              "      response: {\n",
              "        action: 'complete',\n",
              "      }\n",
              "    };\n",
              "  }\n",
              "\n",
              "  for (const file of files) {\n",
              "    const li = document.createElement('li');\n",
              "    li.append(span(file.name, {fontWeight: 'bold'}));\n",
              "    li.append(span(\n",
              "        `(${file.type || 'n/a'}) - ${file.size} bytes, ` +\n",
              "        `last modified: ${\n",
              "            file.lastModifiedDate ? file.lastModifiedDate.toLocaleDateString() :\n",
              "                                    'n/a'} - `));\n",
              "    const percent = span('0% done');\n",
              "    li.appendChild(percent);\n",
              "\n",
              "    outputElement.appendChild(li);\n",
              "\n",
              "    const fileDataPromise = new Promise((resolve) => {\n",
              "      const reader = new FileReader();\n",
              "      reader.onload = (e) => {\n",
              "        resolve(e.target.result);\n",
              "      };\n",
              "      reader.readAsArrayBuffer(file);\n",
              "    });\n",
              "    // Wait for the data to be ready.\n",
              "    let fileData = yield {\n",
              "      promise: fileDataPromise,\n",
              "      response: {\n",
              "        action: 'continue',\n",
              "      }\n",
              "    };\n",
              "\n",
              "    // Use a chunked sending to avoid message size limits. See b/62115660.\n",
              "    let position = 0;\n",
              "    do {\n",
              "      const length = Math.min(fileData.byteLength - position, MAX_PAYLOAD_SIZE);\n",
              "      const chunk = new Uint8Array(fileData, position, length);\n",
              "      position += length;\n",
              "\n",
              "      const base64 = btoa(String.fromCharCode.apply(null, chunk));\n",
              "      yield {\n",
              "        response: {\n",
              "          action: 'append',\n",
              "          file: file.name,\n",
              "          data: base64,\n",
              "        },\n",
              "      };\n",
              "\n",
              "      let percentDone = fileData.byteLength === 0 ?\n",
              "          100 :\n",
              "          Math.round((position / fileData.byteLength) * 100);\n",
              "      percent.textContent = `${percentDone}% done`;\n",
              "\n",
              "    } while (position < fileData.byteLength);\n",
              "  }\n",
              "\n",
              "  // All done.\n",
              "  yield {\n",
              "    response: {\n",
              "      action: 'complete',\n",
              "    }\n",
              "  };\n",
              "}\n",
              "\n",
              "scope.google = scope.google || {};\n",
              "scope.google.colab = scope.google.colab || {};\n",
              "scope.google.colab._files = {\n",
              "  _uploadFiles,\n",
              "  _uploadFilesContinue,\n",
              "};\n",
              "})(self);\n",
              "</script> "
            ]
          },
          "metadata": {}
        },
        {
          "output_type": "stream",
          "name": "stdout",
          "text": [
            "Saving cars.csv to cars.csv\n"
          ]
        }
      ]
    },
    {
      "cell_type": "code",
      "source": [
        "df.info()"
      ],
      "metadata": {
        "colab": {
          "base_uri": "https://localhost:8080/"
        },
        "id": "fVn_IThm_Kew",
        "outputId": "773e9da1-0616-403c-ff4f-4cac7399c273"
      },
      "execution_count": 5,
      "outputs": [
        {
          "output_type": "stream",
          "name": "stdout",
          "text": [
            "<class 'pandas.core.frame.DataFrame'>\n",
            "RangeIndex: 205 entries, 0 to 204\n",
            "Data columns (total 26 columns):\n",
            " #   Column            Non-Null Count  Dtype  \n",
            "---  ------            --------------  -----  \n",
            " 0   car_ID            205 non-null    int64  \n",
            " 1   symboling         205 non-null    int64  \n",
            " 2   CarName           205 non-null    object \n",
            " 3   fueltype          205 non-null    object \n",
            " 4   aspiration        205 non-null    object \n",
            " 5   doornumber        205 non-null    object \n",
            " 6   carbody           205 non-null    object \n",
            " 7   drivewheel        205 non-null    object \n",
            " 8   enginelocation    205 non-null    object \n",
            " 9   wheelbase         205 non-null    float64\n",
            " 10  carlength         205 non-null    float64\n",
            " 11  carwidth          205 non-null    float64\n",
            " 12  carheight         205 non-null    float64\n",
            " 13  curbweight        205 non-null    int64  \n",
            " 14  enginetype        205 non-null    object \n",
            " 15  cylindernumber    205 non-null    object \n",
            " 16  enginesize        205 non-null    int64  \n",
            " 17  fuelsystem        205 non-null    object \n",
            " 18  boreratio         205 non-null    float64\n",
            " 19  stroke            205 non-null    float64\n",
            " 20  compressionratio  205 non-null    float64\n",
            " 21  horsepower        205 non-null    int64  \n",
            " 22  peakrpm           205 non-null    int64  \n",
            " 23  citympg           205 non-null    int64  \n",
            " 24  highwaympg        205 non-null    int64  \n",
            " 25  price             205 non-null    float64\n",
            "dtypes: float64(8), int64(8), object(10)\n",
            "memory usage: 41.8+ KB\n"
          ]
        }
      ]
    },
    {
      "cell_type": "code",
      "source": [
        "# checking the target value\n",
        "df['fueltype']"
      ],
      "metadata": {
        "colab": {
          "base_uri": "https://localhost:8080/",
          "height": 458
        },
        "collapsed": true,
        "id": "beBJEbDBcp-1",
        "outputId": "3e35c9e8-e711-4261-c786-98becab9a5f0"
      },
      "execution_count": 4,
      "outputs": [
        {
          "output_type": "execute_result",
          "data": {
            "text/plain": [
              "0         gas\n",
              "1         gas\n",
              "2         gas\n",
              "3         gas\n",
              "4         gas\n",
              "        ...  \n",
              "200       gas\n",
              "201       gas\n",
              "202       gas\n",
              "203    diesel\n",
              "204       gas\n",
              "Name: fueltype, Length: 205, dtype: object"
            ],
            "text/html": [
              "<div>\n",
              "<style scoped>\n",
              "    .dataframe tbody tr th:only-of-type {\n",
              "        vertical-align: middle;\n",
              "    }\n",
              "\n",
              "    .dataframe tbody tr th {\n",
              "        vertical-align: top;\n",
              "    }\n",
              "\n",
              "    .dataframe thead th {\n",
              "        text-align: right;\n",
              "    }\n",
              "</style>\n",
              "<table border=\"1\" class=\"dataframe\">\n",
              "  <thead>\n",
              "    <tr style=\"text-align: right;\">\n",
              "      <th></th>\n",
              "      <th>fueltype</th>\n",
              "    </tr>\n",
              "  </thead>\n",
              "  <tbody>\n",
              "    <tr>\n",
              "      <th>0</th>\n",
              "      <td>gas</td>\n",
              "    </tr>\n",
              "    <tr>\n",
              "      <th>1</th>\n",
              "      <td>gas</td>\n",
              "    </tr>\n",
              "    <tr>\n",
              "      <th>2</th>\n",
              "      <td>gas</td>\n",
              "    </tr>\n",
              "    <tr>\n",
              "      <th>3</th>\n",
              "      <td>gas</td>\n",
              "    </tr>\n",
              "    <tr>\n",
              "      <th>4</th>\n",
              "      <td>gas</td>\n",
              "    </tr>\n",
              "    <tr>\n",
              "      <th>...</th>\n",
              "      <td>...</td>\n",
              "    </tr>\n",
              "    <tr>\n",
              "      <th>200</th>\n",
              "      <td>gas</td>\n",
              "    </tr>\n",
              "    <tr>\n",
              "      <th>201</th>\n",
              "      <td>gas</td>\n",
              "    </tr>\n",
              "    <tr>\n",
              "      <th>202</th>\n",
              "      <td>gas</td>\n",
              "    </tr>\n",
              "    <tr>\n",
              "      <th>203</th>\n",
              "      <td>diesel</td>\n",
              "    </tr>\n",
              "    <tr>\n",
              "      <th>204</th>\n",
              "      <td>gas</td>\n",
              "    </tr>\n",
              "  </tbody>\n",
              "</table>\n",
              "<p>205 rows × 1 columns</p>\n",
              "</div><br><label><b>dtype:</b> object</label>"
            ]
          },
          "metadata": {},
          "execution_count": 4
        }
      ]
    },
    {
      "cell_type": "markdown",
      "source": [
        "1 - Without Any Encryption"
      ],
      "metadata": {
        "id": "gWwDSfQ4GkXA"
      }
    },
    {
      "cell_type": "code",
      "source": [
        "# importing the libraries\n",
        "import pandas as pd\n",
        "from sklearn.model_selection import train_test_split\n",
        "from sklearn.linear_model import LogisticRegression\n",
        "from sklearn.metrics import accuracy_score, confusion_matrix, classification_report, f1_score\n",
        "\n",
        "data = pd.read_csv('cars.csv')\n",
        "\n",
        "\n",
        "# x is independant and y is our dependant feature that we are going to predict.\n",
        "X = data[[ 'enginesize', 'wheelbase', 'stroke','boreratio']]\n",
        "y = data['fueltype'].apply(lambda x: 1 if x == 'gas' else 0)\n",
        "\n",
        "# splitting the dataset\n",
        "X_train, X_test, y_train, y_test = train_test_split(X, y, test_size=0.3, random_state=42)\n",
        "\n",
        "# initializing our model\n",
        "model = LogisticRegression(max_iter=1000, class_weight='balanced')\n",
        "\n",
        "# training\n",
        "model.fit(X_train, y_train)\n",
        "\n",
        "# predictions\n",
        "y_pred = model.predict(X_test)\n",
        "\n",
        "# Evaluate the model\n",
        "accuracy = accuracy_score(y_test, y_pred)\n",
        "f1 = f1_score(y_test, y_pred)\n",
        "conf_matrix = confusion_matrix(y_test, y_pred)\n",
        "class_report = classification_report(y_test, y_pred)\n",
        "\n",
        "# results\n",
        "print(f\"Accuracy: {accuracy:.2f}\")\n",
        "print(f\"F1 Score: {f1:.2f}\")\n",
        "print()\n",
        "print(\"Confusion Matrix:\\n\")\n",
        "print(conf_matrix)\n",
        "print()\n",
        "print(\"Classification Report - ML model - Logistic Reg - Without Encryption :\")\n",
        "print(class_report)\n",
        "\n",
        "\n"
      ],
      "metadata": {
        "colab": {
          "base_uri": "https://localhost:8080/"
        },
        "id": "GbAIKED87tTv",
        "outputId": "ddd34532-577c-4c91-cd4b-61f4341c5cb6"
      },
      "execution_count": 25,
      "outputs": [
        {
          "output_type": "stream",
          "name": "stdout",
          "text": [
            "Accuracy: 0.89\n",
            "F1 Score: 0.93\n",
            "\n",
            "Confusion Matrix:\n",
            "\n",
            "[[ 5  3]\n",
            " [ 4 50]]\n",
            "\n",
            "Classification Report - ML model - Logistic Reg - Without Encryption :\n",
            "              precision    recall  f1-score   support\n",
            "\n",
            "           0       0.56      0.62      0.59         8\n",
            "           1       0.94      0.93      0.93        54\n",
            "\n",
            "    accuracy                           0.89        62\n",
            "   macro avg       0.75      0.78      0.76        62\n",
            "weighted avg       0.89      0.89      0.89        62\n",
            "\n"
          ]
        }
      ]
    },
    {
      "cell_type": "code",
      "source": [],
      "metadata": {
        "id": "750eDbJeB3bL"
      },
      "execution_count": null,
      "outputs": []
    },
    {
      "cell_type": "code",
      "source": [],
      "metadata": {
        "id": "JI_IXiczVosZ"
      },
      "execution_count": null,
      "outputs": []
    },
    {
      "cell_type": "markdown",
      "source": [
        "2 - RSA Encryption"
      ],
      "metadata": {
        "id": "BN4f0vDkVkbu"
      }
    },
    {
      "cell_type": "code",
      "source": [
        "# installing required library\n",
        "!pip install scikit-learn pycryptodome\n",
        "from Crypto.PublicKey import RSA"
      ],
      "metadata": {
        "colab": {
          "base_uri": "https://localhost:8080/"
        },
        "collapsed": true,
        "id": "sU8I7xZpB70K",
        "outputId": "18aa2a2c-c96b-473d-a000-1a68d3949704"
      },
      "execution_count": 7,
      "outputs": [
        {
          "output_type": "stream",
          "name": "stdout",
          "text": [
            "Requirement already satisfied: scikit-learn in /usr/local/lib/python3.10/dist-packages (1.3.2)\n",
            "Collecting pycryptodome\n",
            "  Downloading pycryptodome-3.20.0-cp35-abi3-manylinux_2_17_x86_64.manylinux2014_x86_64.whl.metadata (3.4 kB)\n",
            "Requirement already satisfied: numpy<2.0,>=1.17.3 in /usr/local/lib/python3.10/dist-packages (from scikit-learn) (1.26.4)\n",
            "Requirement already satisfied: scipy>=1.5.0 in /usr/local/lib/python3.10/dist-packages (from scikit-learn) (1.13.1)\n",
            "Requirement already satisfied: joblib>=1.1.1 in /usr/local/lib/python3.10/dist-packages (from scikit-learn) (1.4.2)\n",
            "Requirement already satisfied: threadpoolctl>=2.0.0 in /usr/local/lib/python3.10/dist-packages (from scikit-learn) (3.5.0)\n",
            "Downloading pycryptodome-3.20.0-cp35-abi3-manylinux_2_17_x86_64.manylinux2014_x86_64.whl (2.1 MB)\n",
            "\u001b[2K   \u001b[90m━━━━━━━━━━━━━━━━━━━━━━━━━━━━━━━━━━━━━━━━\u001b[0m \u001b[32m2.1/2.1 MB\u001b[0m \u001b[31m24.1 MB/s\u001b[0m eta \u001b[36m0:00:00\u001b[0m\n",
            "\u001b[?25hInstalling collected packages: pycryptodome\n",
            "Successfully installed pycryptodome-3.20.0\n"
          ]
        }
      ]
    },
    {
      "cell_type": "code",
      "source": [
        "\n",
        "import pandas as pd\n",
        "import numpy as np\n",
        "from sklearn.model_selection import train_test_split\n",
        "from sklearn.linear_model import LogisticRegression\n",
        "from sklearn.metrics import accuracy_score, confusion_matrix, classification_report, f1_score\n",
        "from Crypto.PublicKey import RSA\n",
        "from Crypto.Cipher import PKCS1_OAEP\n",
        "import base64\n",
        "\n",
        "\n",
        "df = pd.read_csv('cars.csv')\n",
        "\n",
        "X = df[['enginesize', 'wheelbase', 'stroke', 'boreratio']]  #independent\n",
        "y = df['fueltype'].apply(lambda x: 1 if x == 'gas' else 0) #dependent\n",
        "\n",
        "\n",
        "X_train, X_test, y_train, y_test = train_test_split(X, y, test_size=0.3, random_state=42)\n",
        "\n",
        "# Generating RSA Encryption key pair\n",
        "key = RSA.generate(2048)\n",
        "public_key = key.publickey()\n",
        "cipher = PKCS1_OAEP.new(public_key)\n",
        "decipher = PKCS1_OAEP.new(key)\n",
        "\n",
        "# encrypting every feature's value\n",
        "def rsa_encrypt(value):\n",
        "    value_bytes = str(value).encode('utf-8')  # first convert to bytes\n",
        "    encrypted_value = cipher.encrypt(value_bytes)  # then encrypt the bytes\n",
        "    return base64.b64encode(encrypted_value).decode('utf-8')  # retruning Base64 and encode the result for readability\n",
        "\n",
        "# Function to decrypt\n",
        "def rsa_decrypt(value):\n",
        "    encrypted_bytes = base64.b64decode(value.encode('utf-8'))  # decode the encrypted value\n",
        "    decrypted_value = decipher.decrypt(encrypted_bytes)  # Decrypt the bytes\n",
        "    return float(decrypted_value.decode('utf-8'))  # Convert back to float\n",
        "\n",
        "X_train_encrypted = X_train.applymap(rsa_encrypt)\n",
        "X_test_encrypted = X_test.applymap(rsa_encrypt)\n",
        "\n",
        "\n",
        "X_train_decrypted = X_train_encrypted.applymap(rsa_decrypt)\n",
        "X_test_decrypted = X_test_encrypted.applymap(rsa_decrypt)\n",
        "\n",
        "\n",
        "model = LogisticRegression(max_iter=1000, class_weight='balanced')\n",
        "model.fit(X_train_decrypted, y_train)\n",
        "\n",
        "y_pred = model.predict(X_test_decrypted)\n",
        "\n",
        "accuracy = accuracy_score(y_test, y_pred)\n",
        "f1 = f1_score(y_test, y_pred)\n",
        "conf_matrix = confusion_matrix(y_test, y_pred)\n",
        "class_report = classification_report(y_test, y_pred)\n",
        "\n",
        "\n",
        "# Results using RSA\n",
        "print(f\"Accuracy: {accuracy:.2f}\")\n",
        "print(f\"F1 Score: {f1:.2f}\")\n",
        "print()\n",
        "print(\"Confusion Matrix:\\n\")\n",
        "print(conf_matrix)\n",
        "print()\n",
        "\n",
        "print(\"Classification Report - ML model - Logistic Reg - RSA simulated Encryption :\")\n",
        "print(class_report)\n"
      ],
      "metadata": {
        "colab": {
          "base_uri": "https://localhost:8080/"
        },
        "id": "iH6q4KYhyu1m",
        "outputId": "b762bf56-1650-4976-dfa0-d4e06f713c39"
      },
      "execution_count": 44,
      "outputs": [
        {
          "output_type": "stream",
          "name": "stderr",
          "text": [
            "<ipython-input-44-c847da510f0f>:37: FutureWarning: DataFrame.applymap has been deprecated. Use DataFrame.map instead.\n",
            "  X_train_encrypted = X_train.applymap(rsa_encrypt)\n",
            "<ipython-input-44-c847da510f0f>:38: FutureWarning: DataFrame.applymap has been deprecated. Use DataFrame.map instead.\n",
            "  X_test_encrypted = X_test.applymap(rsa_encrypt)\n",
            "<ipython-input-44-c847da510f0f>:41: FutureWarning: DataFrame.applymap has been deprecated. Use DataFrame.map instead.\n",
            "  X_train_decrypted = X_train_encrypted.applymap(rsa_decrypt)\n",
            "<ipython-input-44-c847da510f0f>:42: FutureWarning: DataFrame.applymap has been deprecated. Use DataFrame.map instead.\n",
            "  X_test_decrypted = X_test_encrypted.applymap(rsa_decrypt)\n"
          ]
        },
        {
          "output_type": "stream",
          "name": "stdout",
          "text": [
            "Accuracy: 0.89\n",
            "F1 Score: 0.93\n",
            "\n",
            "Confusion Matrix:\n",
            "\n",
            "[[ 5  3]\n",
            " [ 4 50]]\n",
            "\n",
            "Classification Report - ML model - Logistic Reg - RSA simulated Encryption :\n",
            "              precision    recall  f1-score   support\n",
            "\n",
            "           0       0.56      0.62      0.59         8\n",
            "           1       0.94      0.93      0.93        54\n",
            "\n",
            "    accuracy                           0.89        62\n",
            "   macro avg       0.75      0.78      0.76        62\n",
            "weighted avg       0.89      0.89      0.89        62\n",
            "\n"
          ]
        }
      ]
    },
    {
      "cell_type": "code",
      "source": [],
      "metadata": {
        "id": "pHRtZCktytM7"
      },
      "execution_count": null,
      "outputs": []
    },
    {
      "cell_type": "code",
      "source": [],
      "metadata": {
        "id": "XInHwBmVB3to"
      },
      "execution_count": null,
      "outputs": []
    },
    {
      "cell_type": "markdown",
      "source": [
        "3 - Lattice Based Encryption"
      ],
      "metadata": {
        "id": "AUPyhDFSWvYx"
      }
    },
    {
      "cell_type": "code",
      "source": [
        "# Import necessary libraries\n",
        "import pandas as pd\n",
        "import numpy as np\n",
        "from sklearn.model_selection import train_test_split\n",
        "from sklearn.linear_model import LogisticRegression\n",
        "from sklearn.metrics import accuracy_score, confusion_matrix, classification_report, f1_score\n",
        "\n",
        "data = pd.read_csv('cars.csv')\n",
        "\n",
        "\n",
        "X = data[['enginesize', 'wheelbase', 'stroke', 'boreratio']]\n",
        "y = data['fueltype'].apply(lambda x: 1 if x == 'gas' else 0)\n",
        "\n",
        "\n",
        "X_train, X_test, y_train, y_test = train_test_split(X, y, test_size=0.3, random_state=42)\n",
        "\n",
        "def lattice_encrypt(X):\n",
        "    encryption_factor = np.random.randint(10, 20)  # Simulating the encryption with random noise\n",
        "    return X + encryption_factor\n",
        "\n",
        "def lattice_decrypt(X_encrypted):\n",
        "    encryption_factor = 15\n",
        "    return X_encrypted - encryption_factor\n",
        "\n",
        "X_train_encrypted = lattice_encrypt(X_train)\n",
        "X_test_encrypted = lattice_encrypt(X_test)\n",
        "\n",
        "X_train_decrypted = lattice_decrypt(X_train_encrypted)\n",
        "X_test_decrypted = lattice_decrypt(X_test_encrypted)\n",
        "\n",
        "model = LogisticRegression(max_iter=1000, class_weight='balanced')\n",
        "model.fit(X_train_decrypted, y_train)\n",
        "\n",
        "y_pred = model.predict(X_test_decrypted)\n",
        "\n",
        "accuracy = accuracy_score(y_test, y_pred)\n",
        "f1 = f1_score(y_test, y_pred)\n",
        "conf_matrix = confusion_matrix(y_test, y_pred)\n",
        "class_report = classification_report(y_test, y_pred)\n",
        "\n",
        "\n",
        "# Results - Lattice based\n",
        "print(f\"Accuracy: {accuracy:.2f}\")\n",
        "print(f\"F1 Score: {f1:.2f}\")\n",
        "print()\n",
        "print(\"Confusion Matrix:\\n\")\n",
        "print(conf_matrix)\n",
        "print()\n",
        "\n",
        "print(\"Classification Report - ML model - Logistic Reg - Lattice Based simulated Encryption :\")\n",
        "print(class_report)\n"
      ],
      "metadata": {
        "colab": {
          "base_uri": "https://localhost:8080/"
        },
        "id": "AuA6ZMkvyaIP",
        "outputId": "3b234940-5fc9-49f0-daf0-55e8e72e87e2"
      },
      "execution_count": 42,
      "outputs": [
        {
          "output_type": "stream",
          "name": "stdout",
          "text": [
            "Accuracy: 0.34\n",
            "F1 Score: 0.39\n",
            "\n",
            "Confusion Matrix:\n",
            "\n",
            "[[ 8  0]\n",
            " [41 13]]\n",
            "\n",
            "Classification Report - ML model - Logistic Reg - Lattice Based simulated Encryption :\n",
            "              precision    recall  f1-score   support\n",
            "\n",
            "           0       0.16      1.00      0.28         8\n",
            "           1       1.00      0.24      0.39        54\n",
            "\n",
            "    accuracy                           0.34        62\n",
            "   macro avg       0.58      0.62      0.33        62\n",
            "weighted avg       0.89      0.34      0.37        62\n",
            "\n"
          ]
        }
      ]
    },
    {
      "cell_type": "code",
      "source": [],
      "metadata": {
        "id": "JI1lKf1LyaKs"
      },
      "execution_count": null,
      "outputs": []
    },
    {
      "cell_type": "code",
      "source": [],
      "metadata": {
        "id": "fjkpKClJyaNB"
      },
      "execution_count": null,
      "outputs": []
    },
    {
      "cell_type": "code",
      "source": [],
      "metadata": {
        "id": "qgu38wDqyaO1"
      },
      "execution_count": null,
      "outputs": []
    },
    {
      "cell_type": "markdown",
      "source": [
        "4 - Balanced Quantum Encrypion and Traditional Algorithms"
      ],
      "metadata": {
        "id": "B-SYw9dFWi9D"
      }
    },
    {
      "cell_type": "code",
      "source": [
        "# Import necessary libraries\n",
        "import pandas as pd\n",
        "import numpy as np\n",
        "from sklearn.model_selection import train_test_split\n",
        "from sklearn.linear_model import LogisticRegression\n",
        "from sklearn.metrics import accuracy_score, confusion_matrix, classification_report, f1_score\n",
        "from sklearn.preprocessing import StandardScaler\n",
        "\n",
        "data = pd.read_csv('cars.csv')\n",
        "\n",
        "X = data[['enginesize', 'wheelbase', 'stroke', 'boreratio']]\n",
        "y = data['fueltype'].apply(lambda x: 1 if x == 'gas' else 0)\n",
        "\n",
        "X_train, X_test, y_train, y_test = train_test_split(X, y, test_size=0.3, random_state=42)\n",
        "\n",
        "# Simulated quantum-resistant encryption (reversible mathematical transformation)\n",
        "def encrypt_features(X):\n",
        "    encryption_factor = 10\n",
        "    return X * encryption_factor\n",
        "\n",
        "def decrypt_features(X_encrypted):\n",
        "    encryption_factor = 10\n",
        "    return X_encrypted / encryption_factor\n",
        "\n",
        "X_train_encrypted = encrypt_features(X_train)\n",
        "X_test_encrypted = encrypt_features(X_test)\n",
        "\n",
        "scaler = StandardScaler()\n",
        "X_train_scaled = scaler.fit_transform(X_train_encrypted)\n",
        "X_test_scaled = scaler.transform(X_test_encrypted)\n",
        "\n",
        "\n",
        "X_train_decrypted = decrypt_features(X_train_scaled)\n",
        "X_test_decrypted = decrypt_features(X_test_scaled)\n",
        "\n",
        "model = LogisticRegression(max_iter=1000, class_weight='balanced')\n",
        "model.fit(X_train_decrypted, y_train)\n",
        "\n",
        "y_pred = model.predict(X_test_decrypted)\n",
        "\n",
        "# Evaluate the model\n",
        "accuracy = accuracy_score(y_test, y_pred)\n",
        "f1 = f1_score(y_test, y_pred)\n",
        "conf_matrix = confusion_matrix(y_test, y_pred)\n",
        "class_report = classification_report(y_test, y_pred)\n",
        "\n",
        "# Results - balanced\n",
        "print(f\"Accuracy: {accuracy:.2f}\")\n",
        "print(f\"F1 Score: {f1:.2f}\")\n",
        "print()\n",
        "print(\"Confusion Matrix:\\n\")\n",
        "print(conf_matrix)\n",
        "print()\n",
        "print(\"Classification Report - ML model - Logistic Reg - Balanced :\")\n",
        "print(class_report)\n"
      ],
      "metadata": {
        "colab": {
          "base_uri": "https://localhost:8080/"
        },
        "id": "yDsAZ76QBbzP",
        "outputId": "ce7c89e0-8abc-4e0e-eef7-39912e5f2735"
      },
      "execution_count": 28,
      "outputs": [
        {
          "output_type": "stream",
          "name": "stdout",
          "text": [
            "Accuracy: 0.77\n",
            "F1 Score: 0.86\n",
            "\n",
            "Confusion Matrix:\n",
            "\n",
            "[[ 5  3]\n",
            " [11 43]]\n",
            "\n",
            "Classification Report - ML model - Logistic Reg - Balanced :\n",
            "              precision    recall  f1-score   support\n",
            "\n",
            "           0       0.31      0.62      0.42         8\n",
            "           1       0.93      0.80      0.86        54\n",
            "\n",
            "    accuracy                           0.77        62\n",
            "   macro avg       0.62      0.71      0.64        62\n",
            "weighted avg       0.85      0.77      0.80        62\n",
            "\n"
          ]
        }
      ]
    },
    {
      "cell_type": "code",
      "source": [],
      "metadata": {
        "id": "-oTHsRnsJHPG"
      },
      "execution_count": null,
      "outputs": []
    },
    {
      "cell_type": "code",
      "source": [],
      "metadata": {
        "id": "cfDS_7jhJHUR"
      },
      "execution_count": null,
      "outputs": []
    }
  ]
}